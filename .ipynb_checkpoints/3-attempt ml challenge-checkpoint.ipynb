{
 "cells": [
  {
   "cell_type": "code",
   "execution_count": 1,
   "metadata": {},
   "outputs": [
    {
     "name": "stderr",
     "output_type": "stream",
     "text": [
      "e:\\python35\\lib\\site-packages\\sklearn\\cross_validation.py:44: DeprecationWarning: This module was deprecated in version 0.18 in favor of the model_selection module into which all the refactored classes and functions are moved. Also note that the interface of the new CV iterators are different from that of this module. This module will be removed in 0.20.\n",
      "  \"This module will be removed in 0.20.\", DeprecationWarning)\n",
      "e:\\python35\\lib\\site-packages\\sklearn\\grid_search.py:43: DeprecationWarning: This module was deprecated in version 0.18 in favor of the model_selection module into which all the refactored classes and functions are moved. This module will be removed in 0.20.\n",
      "  DeprecationWarning)\n"
     ]
    }
   ],
   "source": [
    "import numpy as np\n",
    "import pandas as pd\n",
    "from matplotlib import pyplot as plt\n",
    "import seaborn as sns\n",
    "from sklearn import cross_validation\n",
    "from sklearn.grid_search import GridSearchCV\n"
   ]
  },
  {
   "cell_type": "code",
   "execution_count": 2,
   "metadata": {
    "collapsed": true
   },
   "outputs": [],
   "source": [
    "import xgboost as xgb\n",
    "from xgboost.sklearn import XGBClassifier"
   ]
  },
  {
   "cell_type": "code",
   "execution_count": 3,
   "metadata": {
    "collapsed": true
   },
   "outputs": [],
   "source": [
    "from sklearn import metrics"
   ]
  },
  {
   "cell_type": "code",
   "execution_count": 4,
   "metadata": {
    "collapsed": true
   },
   "outputs": [],
   "source": [
    "ds = pd.read_csv('../../data/ml4/train_data.csv')"
   ]
  },
  {
   "cell_type": "code",
   "execution_count": 9,
   "metadata": {},
   "outputs": [
    {
     "data": {
      "text/plain": [
       "(169307, 39)"
      ]
     },
     "execution_count": 9,
     "metadata": {},
     "output_type": "execute_result"
    }
   ],
   "source": [
    "ds.shape"
   ]
  },
  {
   "cell_type": "code",
   "execution_count": 5,
   "metadata": {
    "collapsed": true
   },
   "outputs": [],
   "source": [
    "ds = ds.drop(['cat_8','cat_16','cat_14','cat_13'],axis=1)\n",
    "# ds = ds.drop(['cat_19','cat_5','cat_10','cont_5'],axis=1)"
   ]
  },
  {
   "cell_type": "code",
   "execution_count": 6,
   "metadata": {
    "collapsed": true
   },
   "outputs": [],
   "source": [
    "ds_test = pd.read_csv('../../data/ml4/test_data.csv')"
   ]
  },
  {
   "cell_type": "code",
   "execution_count": 7,
   "metadata": {
    "collapsed": true
   },
   "outputs": [],
   "source": [
    "predictors = [x for x in ds.columns if x not in ['connection_id','target']]"
   ]
  },
  {
   "cell_type": "code",
   "execution_count": 10,
   "metadata": {
    "collapsed": true
   },
   "outputs": [],
   "source": [
    "def modelfitxg(alg,dtrain,predictors,useTrainCV=True,cv_folds=5,early_stopping_rounds=50):\n",
    "    \n",
    "    if useTrainCV:\n",
    "        \n",
    "        xgb_params = alg.get_xgb_params()\n",
    "        xgb_params['num_class'] = 3\n",
    "        print(xgb_params)\n",
    "        xgtrain = xgb.DMatrix(dtrain[predictors].values,label=dtrain['target'].values)\n",
    "        print('prepared Dmatrix')\n",
    "        cvresult = xgb.cv(xgb_params, xgtrain, num_boost_round = alg.get_params()['n_estimators'],\n",
    "                         nfold=cv_folds,early_stopping_rounds=early_stopping_rounds)\n",
    "#         alg.set_params(n_estimators=cvresult.shape[0])\n",
    "        \n",
    "    # fit the algorithm\n",
    "        print(cvresult)\n",
    "    \n",
    "    print('Fitting Model')\n",
    "    alg.fit(dtrain[predictors],dtrain['target'],eval_metric='auc')\n",
    "    print('Model Fitted')\n",
    "    #predict training set\n",
    "    dtrain_predictions = alg.predict(dtrain[predictors])\n",
    "    dtrain_predprob = alg.predict_proba(dtrain[predictors])[:,1]\n",
    "    \n",
    "    print (\"Accuracy: %.4f\"%metrics.accuracy_score(dtrain['target'].values,dtrain_predictions))\n",
    "#     print (\"AUC Score (Train): %f\" % metrics.roc_auc_score(dtrain[''], dtrain_predprob))\n",
    "    \n",
    "    feat_imp = pd.Series(alg.booster().get_fscore()).sort_values(ascending=False)\n",
    "    feat_imp.plot(kind='bar',title='Feature Importance')\n",
    "    plt.ylabel('Feature Importance Score')\n",
    "    \n",
    "    return cvresult"
   ]
  },
  {
   "cell_type": "code",
   "execution_count": 61,
   "metadata": {},
   "outputs": [],
   "source": [
    "xgb4 = XGBClassifier(learning_rate=0.1,\n",
    "              n_estimators=500,\n",
    "              max_depth=5,\n",
    "              min_child_weight=4,\n",
    "              gamma=0,\n",
    "              subsample=0.85,\n",
    "              colsample_bytree=0.85,\n",
    "              objective='multi:softmax',\n",
    "              nthread=4,\n",
    "              reg_alpha = 0,\n",
    "              scale_pos_weight=1,\n",
    "              seed=27)"
   ]
  },
  {
   "cell_type": "code",
   "execution_count": 64,
   "metadata": {},
   "outputs": [
    {
     "name": "stdout",
     "output_type": "stream",
     "text": [
      "{'num_class': 3, 'missing': None, 'reg_lambda': 1, 'max_delta_step': 0, 'colsample_bytree': 0.85, 'subsample': 0.85, 'n_estimators': 500, 'reg_alpha': 0, 'base_score': 0.5, 'objective': 'multi:softmax', 'min_child_weight': 4, 'colsample_bylevel': 1, 'seed': 27, 'max_depth': 5, 'gamma': 0, 'nthread': 4, 'scale_pos_weight': 1, 'learning_rate': 0.1, 'silent': 1}\n",
      "prepared Dmatrix\n",
      "    test-merror-mean  test-merror-std  train-merror-mean  train-merror-std\n",
      "0           0.222356         0.000864           0.222157          0.000212\n",
      "1           0.222291         0.000900           0.222146          0.000224\n",
      "2           0.222268         0.000906           0.222098          0.000209\n",
      "3           0.222220         0.000851           0.222108          0.000302\n",
      "4           0.222232         0.000937           0.222149          0.000216\n",
      "5           0.222203         0.000940           0.222149          0.000205\n",
      "6           0.222137         0.000967           0.222018          0.000185\n",
      "7           0.222043         0.000927           0.221991          0.000231\n",
      "8           0.221830         0.001085           0.221795          0.000341\n",
      "9           0.221825         0.001129           0.221751          0.000330\n",
      "10          0.221553         0.001381           0.221510          0.000426\n",
      "11          0.221187         0.001341           0.221040          0.000380\n",
      "12          0.221063         0.001354           0.220930          0.000457\n",
      "13          0.220791         0.001178           0.220670          0.000375\n",
      "14          0.220655         0.001239           0.220540          0.000377\n",
      "15          0.220501         0.001176           0.220423          0.000316\n",
      "16          0.220442         0.001191           0.220333          0.000320\n",
      "17          0.220301         0.001139           0.220199          0.000343\n",
      "18          0.220171         0.001083           0.220087          0.000198\n",
      "19          0.220029         0.001027           0.219906          0.000194\n",
      "20          0.219917         0.000962           0.219744          0.000168\n",
      "21          0.219852         0.000967           0.219660          0.000129\n",
      "22          0.219810         0.000965           0.219598          0.000165\n",
      "23          0.219781         0.000968           0.219562          0.000154\n",
      "24          0.219734         0.000948           0.219508          0.000143\n",
      "25          0.219669         0.000907           0.219433          0.000164\n",
      "26          0.219633         0.000895           0.219381          0.000192\n",
      "27          0.219592         0.000879           0.219347          0.000185\n",
      "28          0.219557         0.000858           0.219344          0.000211\n",
      "29          0.219556         0.000845           0.219331          0.000220\n",
      "..               ...              ...                ...               ...\n",
      "59          0.219214         0.000821           0.218765          0.000203\n",
      "60          0.219220         0.000811           0.218749          0.000195\n",
      "61          0.219202         0.000796           0.218741          0.000199\n",
      "62          0.219214         0.000798           0.218730          0.000198\n",
      "63          0.219202         0.000808           0.218721          0.000199\n",
      "64          0.219202         0.000807           0.218713          0.000194\n",
      "65          0.219190         0.000801           0.218706          0.000189\n",
      "66          0.219178         0.000802           0.218701          0.000189\n",
      "67          0.219161         0.000807           0.218694          0.000192\n",
      "68          0.219155         0.000817           0.218694          0.000192\n",
      "69          0.219155         0.000817           0.218682          0.000188\n",
      "70          0.219161         0.000817           0.218688          0.000188\n",
      "71          0.219161         0.000817           0.218666          0.000201\n",
      "72          0.219166         0.000816           0.218660          0.000201\n",
      "73          0.219155         0.000820           0.218638          0.000202\n",
      "74          0.219149         0.000830           0.218633          0.000205\n",
      "75          0.219143         0.000830           0.218627          0.000211\n",
      "76          0.219131         0.000826           0.218622          0.000210\n",
      "77          0.219131         0.000826           0.218608          0.000198\n",
      "78          0.219125         0.000828           0.218605          0.000197\n",
      "79          0.219125         0.000828           0.218597          0.000202\n",
      "80          0.219125         0.000828           0.218592          0.000203\n",
      "81          0.219131         0.000833           0.218585          0.000196\n",
      "82          0.219131         0.000833           0.218573          0.000191\n",
      "83          0.219125         0.000842           0.218567          0.000189\n",
      "84          0.219125         0.000842           0.218555          0.000198\n",
      "85          0.219137         0.000838           0.218548          0.000200\n",
      "86          0.219119         0.000849           0.218546          0.000194\n",
      "87          0.219119         0.000849           0.218548          0.000196\n",
      "88          0.219107         0.000834           0.218539          0.000206\n",
      "\n",
      "[89 rows x 4 columns]\n",
      "Fitting Model\n",
      "Model Fitted\n",
      "Accuracy: 0.7814\n"
     ]
    }
   ],
   "source": [
    "cv_result9 = modelfitxg(xgb4,ds,predictors)"
   ]
  },
  {
   "cell_type": "code",
   "execution_count": 65,
   "metadata": {},
   "outputs": [
    {
     "ename": "NameError",
     "evalue": "name 'cv_result' is not defined",
     "output_type": "error",
     "traceback": [
      "\u001b[1;31m---------------------------------------------------------------------------\u001b[0m",
      "\u001b[1;31mNameError\u001b[0m                                 Traceback (most recent call last)",
      "\u001b[1;32m<ipython-input-65-beaae020ec2f>\u001b[0m in \u001b[0;36m<module>\u001b[1;34m()\u001b[0m\n\u001b[1;32m----> 1\u001b[1;33m \u001b[0mprint\u001b[0m\u001b[1;33m(\u001b[0m\u001b[0mcv_result\u001b[0m\u001b[1;33m[\u001b[0m\u001b[1;34m'test-merror-mean'\u001b[0m\u001b[1;33m]\u001b[0m\u001b[1;33m.\u001b[0m\u001b[0mmean\u001b[0m\u001b[1;33m(\u001b[0m\u001b[1;33m)\u001b[0m\u001b[1;33m,\u001b[0m\u001b[0mcv_result8\u001b[0m\u001b[1;33m[\u001b[0m\u001b[1;34m'test-merror-mean'\u001b[0m\u001b[1;33m]\u001b[0m\u001b[1;33m.\u001b[0m\u001b[0mmax\u001b[0m\u001b[1;33m(\u001b[0m\u001b[1;33m)\u001b[0m\u001b[1;33m)\u001b[0m\u001b[1;33m\u001b[0m\u001b[0m\n\u001b[0m\u001b[0;32m      2\u001b[0m \u001b[0mprint\u001b[0m\u001b[1;33m(\u001b[0m\u001b[0mcv_result7\u001b[0m\u001b[1;33m[\u001b[0m\u001b[1;34m'test-merror-std'\u001b[0m\u001b[1;33m]\u001b[0m\u001b[1;33m.\u001b[0m\u001b[0mmean\u001b[0m\u001b[1;33m(\u001b[0m\u001b[1;33m)\u001b[0m\u001b[1;33m)\u001b[0m\u001b[1;33m\u001b[0m\u001b[0m\n\u001b[0;32m      3\u001b[0m \u001b[0mprint\u001b[0m\u001b[1;33m(\u001b[0m\u001b[0mcv_result7\u001b[0m\u001b[1;33m[\u001b[0m\u001b[1;34m'train-merror-mean'\u001b[0m\u001b[1;33m]\u001b[0m\u001b[1;33m.\u001b[0m\u001b[0mmean\u001b[0m\u001b[1;33m(\u001b[0m\u001b[1;33m)\u001b[0m\u001b[1;33m)\u001b[0m\u001b[1;33m\u001b[0m\u001b[0m\n\u001b[0;32m      4\u001b[0m \u001b[0mprint\u001b[0m\u001b[1;33m(\u001b[0m\u001b[0mcv_result7\u001b[0m\u001b[1;33m[\u001b[0m\u001b[1;34m'train-merror-std'\u001b[0m\u001b[1;33m]\u001b[0m\u001b[1;33m.\u001b[0m\u001b[0mmean\u001b[0m\u001b[1;33m(\u001b[0m\u001b[1;33m)\u001b[0m\u001b[1;33m)\u001b[0m\u001b[1;33m\u001b[0m\u001b[0m\n",
      "\u001b[1;31mNameError\u001b[0m: name 'cv_result' is not defined"
     ]
    }
   ],
   "source": [
    "print(cv_result['test-merror-mean'].mean(),cv_result8['test-merror-mean'].max())\n",
    "print(cv_result7['test-merror-std'].mean())\n",
    "print(cv_result7['train-merror-mean'].mean())\n",
    "print(cv_result7['train-merror-std'].mean())"
   ]
  },
  {
   "cell_type": "code",
   "execution_count": 38,
   "metadata": {},
   "outputs": [
    {
     "name": "stdout",
     "output_type": "stream",
     "text": [
      "0.219788337079 0.222356\n",
      "0.000891863251794\n",
      "0.219449251685\n",
      "0.000223160309855\n"
     ]
    }
   ],
   "source": [
    "print(cv_result8['test-merror-mean'].mean(),cv_result8['test-merror-mean'].max())\n",
    "print(cv_result8['test-merror-std'].mean())\n",
    "print(cv_result8['train-merror-mean'].mean())\n",
    "print(cv_result8['train-merror-std'].mean())"
   ]
  },
  {
   "cell_type": "code",
   "execution_count": 55,
   "metadata": {
    "collapsed": true
   },
   "outputs": [],
   "source": [
    "feat_imp = pd.Series(xgb3.booster().get_fscore()).sort_values(ascending=False)"
   ]
  },
  {
   "cell_type": "code",
   "execution_count": 56,
   "metadata": {},
   "outputs": [
    {
     "data": {
      "text/plain": [
       "cont_2     620\n",
       "cat_20     535\n",
       "cat_2      445\n",
       "cat_23     397\n",
       "cont_3     382\n",
       "cat_21     280\n",
       "cont_11    270\n",
       "cont_12    243\n",
       "cont_17    222\n",
       "cat_22     220\n",
       "cont_1     172\n",
       "cont_14    137\n",
       "cont_8     133\n",
       "cont_9     130\n",
       "cont_13    129\n",
       "cat_7      105\n",
       "cat_3       97\n",
       "cont_16     79\n",
       "cont_15     69\n",
       "cont_10     67\n",
       "cat_1       58\n",
       "cont_18     47\n",
       "cont_5      46\n",
       "cat_9       43\n",
       "cont_6      36\n",
       "cont_4      29\n",
       "cat_10      22\n",
       "cat_19      20\n",
       "cont_7      19\n",
       "cat_5       10\n",
       "dtype: int64"
      ]
     },
     "execution_count": 56,
     "metadata": {},
     "output_type": "execute_result"
    }
   ],
   "source": [
    "feat_imp"
   ]
  },
  {
   "cell_type": "code",
   "execution_count": 66,
   "metadata": {
    "collapsed": true
   },
   "outputs": [],
   "source": [
    "test_targets = xgb4.predict(ds_test[predictors])"
   ]
  },
  {
   "cell_type": "code",
   "execution_count": 67,
   "metadata": {
    "collapsed": true
   },
   "outputs": [],
   "source": [
    "test_connections = ds_test['connection_id']"
   ]
  },
  {
   "cell_type": "code",
   "execution_count": 50,
   "metadata": {},
   "outputs": [
    {
     "data": {
      "image/png": "[encoded data removed]",
      "text/plain": [
       "<matplotlib.figure.Figure at 0x14b00069e80>"
      ]
     },
     "metadata": {},
     "output_type": "display_data"
    },
    {
     "data": {
      "image/png": "[encoded data removed]",
      "text/plain": [
       "<matplotlib.figure.Figure at 0x14b00840080>"
      ]
     },
     "metadata": {},
     "output_type": "display_data"
    }
   ],
   "source": [
    "plt.figure(figsize=(20,20))\n",
    "feat_imp.plot(kind='bar',title='Feature Importances')\n",
    "plt.show()"
   ]
  },
  {
   "cell_type": "code",
   "execution_count": 32,
   "metadata": {},
   "outputs": [
    {
     "data": {
      "text/plain": [
       "array([1, 0, 0, ..., 0, 0, 1], dtype=int64)"
      ]
     },
     "execution_count": 32,
     "metadata": {},
     "output_type": "execute_result"
    }
   ],
   "source": [
    "test_targets"
   ]
  },
  {
   "cell_type": "code",
   "execution_count": 68,
   "metadata": {
    "collapsed": true
   },
   "outputs": [],
   "source": [
    "output = []\n",
    "for i in range(len(test_connections)):\n",
    "    output.append((test_connections[i],test_targets[i]))"
   ]
  },
  {
   "cell_type": "code",
   "execution_count": 69,
   "metadata": {
    "collapsed": true
   },
   "outputs": [],
   "source": [
    "np.savetxt('./ml4output9.csv',output,fmt='%s,%s',delimiter=',',header='connection_id,target')"
   ]
  },
  {
   "cell_type": "code",
   "execution_count": null,
   "metadata": {
    "collapsed": true
   },
   "outputs": [],
   "source": []
  }
 ],
 "metadata": {
  "kernelspec": {
   "display_name": "Python 3",
   "language": "python",
   "name": "python3"
  },
  "language_info": {
   "codemirror_mode": {
    "name": "ipython",
    "version": 3
   },
   "file_extension": ".py",
   "mimetype": "text/x-python",
   "name": "python",
   "nbconvert_exporter": "python",
   "pygments_lexer": "ipython3",
   "version": "3.5.1"
  }
 },
 "nbformat": 4,
 "nbformat_minor": 2
}
