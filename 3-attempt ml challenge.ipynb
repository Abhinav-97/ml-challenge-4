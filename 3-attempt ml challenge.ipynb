{
 "cells": [
  {
   "cell_type": "code",
   "execution_count": 1,
   "metadata": {},
   "outputs": [
    {
     "name": "stderr",
     "output_type": "stream",
     "text": [
      "e:\\python35\\lib\\site-packages\\sklearn\\cross_validation.py:44: DeprecationWarning: This module was deprecated in version 0.18 in favor of the model_selection module into which all the refactored classes and functions are moved. Also note that the interface of the new CV iterators are different from that of this module. This module will be removed in 0.20.\n",
      "  \"This module will be removed in 0.20.\", DeprecationWarning)\n",
      "e:\\python35\\lib\\site-packages\\sklearn\\grid_search.py:43: DeprecationWarning: This module was deprecated in version 0.18 in favor of the model_selection module into which all the refactored classes and functions are moved. This module will be removed in 0.20.\n",
      "  DeprecationWarning)\n"
     ]
    }
   ],
   "source": [
    "import numpy as np\n",
    "import pandas as pd\n",
    "from matplotlib import pyplot as plt\n",
    "import seaborn as sns\n",
    "from sklearn import cross_validation\n",
    "from sklearn.grid_search import GridSearchCV\n"
   ]
  },
  {
   "cell_type": "code",
   "execution_count": 2,
   "metadata": {
    "collapsed": true
   },
   "outputs": [],
   "source": [
    "import xgboost as xgb\n",
    "from xgboost.sklearn import XGBClassifier"
   ]
  },
  {
   "cell_type": "code",
   "execution_count": 3,
   "metadata": {
    "collapsed": true
   },
   "outputs": [],
   "source": [
    "from sklearn import metrics"
   ]
  },
  {
   "cell_type": "code",
   "execution_count": 4,
   "metadata": {
    "collapsed": true
   },
   "outputs": [],
   "source": [
    "ds = pd.read_csv('../../data/ml4/train_data.csv')"
   ]
  },
  {
   "cell_type": "code",
   "execution_count": 9,
   "metadata": {},
   "outputs": [
    {
     "data": {
      "text/plain": [
       "(169307, 39)"
      ]
     },
     "execution_count": 9,
     "metadata": {},
     "output_type": "execute_result"
    }
   ],
   "source": [
    "ds.shape"
   ]
  },
  {
   "cell_type": "code",
   "execution_count": 5,
   "metadata": {
    "collapsed": true
   },
   "outputs": [],
   "source": [
    "ds = ds.drop(['cat_8','cat_16','cat_14','cat_13'],axis=1)\n",
    "# ds = ds.drop(['cat_19','cat_5','cat_10','cont_5'],axis=1)"
   ]
  },
  {
   "cell_type": "code",
   "execution_count": 17,
   "metadata": {
    "collapsed": true
   },
   "outputs": [],
   "source": [
    "ds_test = ds_test.drop(['cat_8','cat_16','cat_14','cat_13'],axis=1)\n",
    "# ds = ds.drop(['cat_19','cat_5','cat_10','cont_5'],axis=1)"
   ]
  },
  {
   "cell_type": "code",
   "execution_count": null,
   "metadata": {
    "collapsed": true
   },
   "outputs": [],
   "source": []
  },
  {
   "cell_type": "code",
   "execution_count": 15,
   "metadata": {
    "collapsed": true
   },
   "outputs": [],
   "source": [
    "ds_test = pd.read_csv('../../data/ml4/test_data.csv')"
   ]
  },
  {
   "cell_type": "code",
   "execution_count": 5,
   "metadata": {
    "collapsed": true
   },
   "outputs": [],
   "source": [
    "predictors = [x for x in ds.columns if x not in ['connection_id','target']]"
   ]
  },
  {
   "cell_type": "code",
   "execution_count": 6,
   "metadata": {
    "collapsed": true
   },
   "outputs": [],
   "source": [
    "def modelfitxg(alg,dtrain,predictors,useTrainCV=True,cv_folds=5,early_stopping_rounds=50):\n",
    "    \n",
    "    if useTrainCV:\n",
    "        \n",
    "        xgb_params = alg.get_xgb_params()\n",
    "        xgb_params['num_class'] = 3\n",
    "        print(xgb_params)\n",
    "        xgtrain = xgb.DMatrix(dtrain[predictors].values,label=dtrain['target'].values)\n",
    "        print('prepared Dmatrix')\n",
    "        cvresult = xgb.cv(xgb_params, xgtrain, num_boost_round = alg.get_params()['n_estimators'],\n",
    "                         nfold=cv_folds,early_stopping_rounds=early_stopping_rounds)\n",
    "        alg.set_params(n_estimators=cvresult.shape[0])\n",
    "        \n",
    "    # fit the algorithm\n",
    "        print(cvresult)\n",
    "    \n",
    "    print('Fitting Model')\n",
    "    alg.fit(dtrain[predictors],dtrain['target'],eval_metric='auc')\n",
    "    print('Model Fitted')\n",
    "    #predict training set\n",
    "    dtrain_predictions = alg.predict(dtrain[predictors])\n",
    "    dtrain_predprob = alg.predict_proba(dtrain[predictors])[:,1]\n",
    "    \n",
    "    print (\"Accuracy: %.4f\"%metrics.accuracy_score(dtrain['target'].values,dtrain_predictions))\n",
    "#     print (\"AUC Score (Train): %f\" % metrics.roc_auc_score(dtrain[''], dtrain_predprob))\n",
    "    \n",
    "    feat_imp = pd.Series(alg.booster().get_fscore()).sort_values(ascending=False)\n",
    "    feat_imp.plot(kind='bar',title='Feature Importance')\n",
    "    plt.ylabel('Feature Importance Score')\n",
    "    \n",
    "    return cvresult"
   ]
  },
  {
   "cell_type": "code",
   "execution_count": 7,
   "metadata": {
    "collapsed": true
   },
   "outputs": [],
   "source": [
    "xgb1 = XGBClassifier(learning_rate=0.1,\n",
    "              n_estimators=500,\n",
    "              max_depth=5,\n",
    "              min_child_weight=4,\n",
    "              gamma=2,\n",
    "              subsample=0.85,\n",
    "              colsample_bytree=0.85,\n",
    "              objective='multi:softmax',\n",
    "              nthread=4,\n",
    "              reg_alpha = 0.05,\n",
    "              scale_pos_weight=1,\n",
    "              seed=27)"
   ]
  },
  {
   "cell_type": "code",
   "execution_count": 9,
   "metadata": {},
   "outputs": [
    {
     "name": "stdout",
     "output_type": "stream",
     "text": [
      "{'nthread': 4, 'scale_pos_weight': 1, 'n_estimators': 200, 'subsample': 0.85, 'learning_rate': 0.1, 'reg_lambda': 1, 'min_child_weight': 4, 'max_delta_step': 0, 'objective': 'multi:softmax', 'reg_alpha': 0.5, 'colsample_bylevel': 1, 'num_class': 3, 'base_score': 0.5, 'gamma': 2, 'colsample_bytree': 0.85, 'missing': None, 'max_depth': 5, 'seed': 27, 'silent': 1}\n",
      "prepared Dmatrix\n",
      "     test-merror-mean  test-merror-std  train-merror-mean  train-merror-std\n",
      "0            0.221978         0.000915           0.221860          0.000214\n",
      "1            0.222067         0.000936           0.221960          0.000282\n",
      "2            0.222031         0.001059           0.221968          0.000196\n",
      "3            0.222084         0.000994           0.222012          0.000225\n",
      "4            0.221955         0.001012           0.221879          0.000166\n",
      "5            0.222096         0.001063           0.222036          0.000119\n",
      "6            0.222002         0.001016           0.221943          0.000134\n",
      "7            0.221960         0.000998           0.221923          0.000196\n",
      "8            0.221860         0.001008           0.221823          0.000215\n",
      "9            0.221712         0.001176           0.221630          0.000494\n",
      "10           0.221624         0.001159           0.221523          0.000554\n",
      "11           0.221263         0.001320           0.221166          0.000427\n",
      "12           0.220868         0.001041           0.220761          0.000299\n",
      "13           0.220756         0.001131           0.220676          0.000206\n",
      "14           0.220584         0.001100           0.220411          0.000127\n",
      "15           0.220289         0.001018           0.220158          0.000232\n",
      "16           0.220159         0.001046           0.220036          0.000210\n",
      "17           0.220017         0.000914           0.219904          0.000239\n",
      "18           0.219940         0.000934           0.219861          0.000196\n",
      "19           0.219887         0.000907           0.219763          0.000214\n",
      "20           0.219805         0.001010           0.219683          0.000219\n",
      "21           0.219722         0.000965           0.219607          0.000201\n",
      "22           0.219669         0.000965           0.219567          0.000238\n",
      "23           0.219604         0.000917           0.219487          0.000241\n",
      "24           0.219562         0.000912           0.219449          0.000233\n",
      "25           0.219539         0.000911           0.219429          0.000224\n",
      "26           0.219521         0.000909           0.219412          0.000218\n",
      "27           0.219515         0.000910           0.219378          0.000211\n",
      "28           0.219515         0.000916           0.219362          0.000214\n",
      "29           0.219474         0.000913           0.219335          0.000197\n",
      "..                ...              ...                ...               ...\n",
      "71           0.219119         0.000863           0.218882          0.000234\n",
      "72           0.219119         0.000855           0.218880          0.000222\n",
      "73           0.219113         0.000849           0.218880          0.000228\n",
      "74           0.219107         0.000841           0.218868          0.000225\n",
      "75           0.219113         0.000857           0.218873          0.000223\n",
      "76           0.219113         0.000857           0.218867          0.000224\n",
      "77           0.219108         0.000841           0.218858          0.000221\n",
      "78           0.219102         0.000851           0.218844          0.000223\n",
      "79           0.219108         0.000855           0.218843          0.000221\n",
      "80           0.219102         0.000865           0.218837          0.000215\n",
      "81           0.219113         0.000851           0.218834          0.000214\n",
      "82           0.219113         0.000854           0.218836          0.000216\n",
      "83           0.219096         0.000858           0.218830          0.000220\n",
      "84           0.219102         0.000856           0.218827          0.000217\n",
      "85           0.219102         0.000856           0.218828          0.000212\n",
      "86           0.219108         0.000855           0.218830          0.000214\n",
      "87           0.219090         0.000855           0.218823          0.000219\n",
      "88           0.219102         0.000865           0.218820          0.000220\n",
      "89           0.219090         0.000862           0.218814          0.000219\n",
      "90           0.219090         0.000862           0.218814          0.000220\n",
      "91           0.219090         0.000864           0.218806          0.000218\n",
      "92           0.219090         0.000864           0.218803          0.000216\n",
      "93           0.219090         0.000864           0.218802          0.000216\n",
      "94           0.219090         0.000864           0.218797          0.000212\n",
      "95           0.219090         0.000864           0.218796          0.000216\n",
      "96           0.219084         0.000866           0.218796          0.000218\n",
      "97           0.219084         0.000866           0.218793          0.000220\n",
      "98           0.219084         0.000866           0.218792          0.000221\n",
      "99           0.219090         0.000871           0.218792          0.000221\n",
      "100          0.219078         0.000866           0.218789          0.000224\n",
      "\n",
      "[101 rows x 4 columns]\n",
      "Fitting Model\n",
      "Model Fitted\n",
      "Accuracy: 0.7811\n"
     ]
    }
   ],
   "source": [
    "cv_result11 = modelfitxg(xgb1,ds,predictors)"
   ]
  },
  {
   "cell_type": "code",
   "execution_count": 26,
   "metadata": {},
   "outputs": [
    {
     "name": "stdout",
     "output_type": "stream",
     "text": [
      "0.219460451389 0.2223088\n",
      "0.000901664107168\n",
      "0.219211522222\n",
      "0.000219334851019\n"
     ]
    }
   ],
   "source": [
    "print(cv_result11['test-merror-mean'].mean(),cv_result11['test-merror-mean'].max())\n",
    "print(cv_result11['test-merror-std'].mean())\n",
    "print(cv_result11['train-merror-mean'].mean())\n",
    "print(cv_result11['train-merror-std'].mean())"
   ]
  },
  {
   "cell_type": "code",
   "execution_count": 10,
   "metadata": {},
   "outputs": [
    {
     "name": "stdout",
     "output_type": "stream",
     "text": [
      "0.219633716832 0.2220964 0.2190782\n",
      "0.000890674309512\n",
      "0.219443233663\n",
      "0.000224814380943\n"
     ]
    }
   ],
   "source": [
    "print(cv_result11['test-merror-mean'].mean(),cv_result11['test-merror-mean'].max(),cv_result11['test-merror-mean'].min())\n",
    "print(cv_result11['test-merror-std'].mean())\n",
    "print(cv_result11['train-merror-mean'].mean())\n",
    "print(cv_result11['train-merror-std'].mean())"
   ]
  },
  {
   "cell_type": "code",
   "execution_count": 12,
   "metadata": {
    "collapsed": true
   },
   "outputs": [],
   "source": [
    "feat_imp = pd.Series(xgb1.booster().get_fscore()).sort_values(ascending=False)"
   ]
  },
  {
   "cell_type": "code",
   "execution_count": 13,
   "metadata": {},
   "outputs": [
    {
     "data": {
      "text/plain": [
       "cont_2     466\n",
       "cat_2      398\n",
       "cat_20     398\n",
       "cont_3     304\n",
       "cont_11    211\n",
       "cat_23     190\n",
       "cat_22     168\n",
       "cont_17    157\n",
       "cat_21     126\n",
       "cont_14    113\n",
       "cont_12    112\n",
       "cont_1     105\n",
       "cont_13    103\n",
       "cat_3      100\n",
       "cat_7       89\n",
       "cont_8      81\n",
       "cont_9      60\n",
       "cont_15     53\n",
       "cat_1       50\n",
       "cont_16     46\n",
       "cat_9       40\n",
       "cat_10      27\n",
       "cont_4      26\n",
       "cont_5      25\n",
       "cont_10     22\n",
       "cont_6      22\n",
       "cont_18     15\n",
       "cat_8       12\n",
       "cat_19      11\n",
       "cat_5        7\n",
       "cont_7       1\n",
       "dtype: int64"
      ]
     },
     "execution_count": 13,
     "metadata": {},
     "output_type": "execute_result"
    }
   ],
   "source": [
    "feat_imp"
   ]
  },
  {
   "cell_type": "code",
   "execution_count": 13,
   "metadata": {},
   "outputs": [
    {
     "data": {
      "text/plain": [
       "cat_20     1647\n",
       "cont_2      970\n",
       "cat_2       912\n",
       "cat_23      712\n",
       "cont_3      591\n",
       "cat_21      551\n",
       "cont_12     475\n",
       "cont_11     439\n",
       "cont_8      381\n",
       "cont_17     329\n",
       "cont_9      325\n",
       "cat_22      324\n",
       "cont_13     292\n",
       "cont_1      220\n",
       "cont_14     206\n",
       "cat_7       180\n",
       "cat_3       162\n",
       "cat_1       121\n",
       "cont_15     117\n",
       "cont_16      85\n",
       "cont_6       85\n",
       "cont_4       65\n",
       "cont_5       60\n",
       "cat_9        56\n",
       "cont_10      40\n",
       "cont_18      33\n",
       "cat_10       28\n",
       "cat_5        20\n",
       "cat_19       17\n",
       "cont_7       12\n",
       "dtype: int64"
      ]
     },
     "execution_count": 13,
     "metadata": {},
     "output_type": "execute_result"
    }
   ],
   "source": [
    "feat_imp"
   ]
  },
  {
   "cell_type": "code",
   "execution_count": 14,
   "metadata": {},
   "outputs": [
    {
     "ename": "NameError",
     "evalue": "name 'ds_test' is not defined",
     "output_type": "error",
     "traceback": [
      "\u001b[1;31m---------------------------------------------------------------------------\u001b[0m",
      "\u001b[1;31mNameError\u001b[0m                                 Traceback (most recent call last)",
      "\u001b[1;32m<ipython-input-14-9de9e4f24158>\u001b[0m in \u001b[0;36m<module>\u001b[1;34m()\u001b[0m\n\u001b[1;32m----> 1\u001b[1;33m \u001b[0mtest_targets\u001b[0m \u001b[1;33m=\u001b[0m \u001b[0mxgb1\u001b[0m\u001b[1;33m.\u001b[0m\u001b[0mpredict\u001b[0m\u001b[1;33m(\u001b[0m\u001b[0mds_test\u001b[0m\u001b[1;33m[\u001b[0m\u001b[0mpredictors\u001b[0m\u001b[1;33m]\u001b[0m\u001b[1;33m)\u001b[0m\u001b[1;33m\u001b[0m\u001b[0m\n\u001b[0m",
      "\u001b[1;31mNameError\u001b[0m: name 'ds_test' is not defined"
     ]
    }
   ],
   "source": [
    "test_targets = xgb1.predict(ds_test[predictors])"
   ]
  },
  {
   "cell_type": "code",
   "execution_count": 16,
   "metadata": {
    "collapsed": true
   },
   "outputs": [],
   "source": [
    "test_connections = ds_test['connection_id']"
   ]
  },
  {
   "cell_type": "code",
   "execution_count": 17,
   "metadata": {},
   "outputs": [
    {
     "data": {
      "image/png": "[encoded data removed]",
      "text/plain": [
       "<matplotlib.figure.Figure at 0x1a8f36350f0>"
      ]
     },
     "metadata": {},
     "output_type": "display_data"
    },
    {
     "data": {
      "image/png": "[encoded data removed]",
      "text/plain": [
       "<matplotlib.figure.Figure at 0x1a88027ef60>"
      ]
     },
     "metadata": {},
     "output_type": "display_data"
    }
   ],
   "source": [
    "plt.figure(figsize=(20,20))\n",
    "feat_imp.plot(kind='bar',title='Feature Importances')\n",
    "plt.show()"
   ]
  },
  {
   "cell_type": "code",
   "execution_count": 20,
   "metadata": {},
   "outputs": [
    {
     "data": {
      "text/plain": [
       "array([1, 0, 0, ..., 0, 0, 1], dtype=int64)"
      ]
     },
     "execution_count": 20,
     "metadata": {},
     "output_type": "execute_result"
    }
   ],
   "source": [
    "test_targets"
   ]
  },
  {
   "cell_type": "code",
   "execution_count": 34,
   "metadata": {
    "collapsed": true
   },
   "outputs": [],
   "source": [
    "output = []\n",
    "for i in range(len(test_connections)):\n",
    "    output.append((test_connections[i],test_targets[i]))"
   ]
  },
  {
   "cell_type": "code",
   "execution_count": 35,
   "metadata": {
    "collapsed": true
   },
   "outputs": [],
   "source": [
    "np.savetxt('./ml4output12.csv',output,fmt='%s,%s',delimiter=',',header='connection_id,target')"
   ]
  },
  {
   "cell_type": "code",
   "execution_count": null,
   "metadata": {
    "collapsed": true
   },
   "outputs": [],
   "source": []
  }
 ],
 "metadata": {
  "kernelspec": {
   "display_name": "Python 3",
   "language": "python",
   "name": "python3"
  },
  "language_info": {
   "codemirror_mode": {
    "name": "ipython",
    "version": 3
   },
   "file_extension": ".py",
   "mimetype": "text/x-python",
   "name": "python",
   "nbconvert_exporter": "python",
   "pygments_lexer": "ipython3",
   "version": "3.5.1"
  }
 },
 "nbformat": 4,
 "nbformat_minor": 2
}
